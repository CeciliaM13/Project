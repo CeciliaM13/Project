{
 "cells": [
  {
   "cell_type": "code",
   "execution_count": 1,
   "metadata": {
    "collapsed": true
   },
   "outputs": [],
   "source": [
    "import pandas as pd\n",
    "import numpy as np\n",
    "import sklearn\n",
    "import matplotlib.pyplot as plt\n",
    "import seaborn as sns\n",
    "\n",
    "%matplotlib inline\n",
    "\n",
    "from sklearn.linear_model import LogisticRegression\n",
    "from sklearn.model_selection import train_test_split\n",
    "from sklearn.metrics import classification_report\n",
    "from sklearn.metrics import confusion_matrix\n",
    "from sklearn.metrics import accuracy_score"
   ]
  },
  {
   "cell_type": "code",
   "execution_count": 2,
   "metadata": {
    "collapsed": true
   },
   "outputs": [],
   "source": [
    "location = \"datasets/kickstartercombo.csv\"\n",
    "\n",
    "df = pd.read_csv(location)"
   ]
  },
  {
   "cell_type": "code",
   "execution_count": 4,
   "metadata": {},
   "outputs": [
    {
     "data": {
      "text/plain": [
       "(702411, 16)"
      ]
     },
     "execution_count": 4,
     "metadata": {},
     "output_type": "execute_result"
    }
   ],
   "source": [
    "df.shape"
   ]
  },
  {
   "cell_type": "code",
   "execution_count": 8,
   "metadata": {},
   "outputs": [
    {
     "data": {
      "text/html": [
       "<div>\n",
       "<style>\n",
       "    .dataframe thead tr:only-child th {\n",
       "        text-align: right;\n",
       "    }\n",
       "\n",
       "    .dataframe thead th {\n",
       "        text-align: left;\n",
       "    }\n",
       "\n",
       "    .dataframe tbody tr th {\n",
       "        vertical-align: top;\n",
       "    }\n",
       "</style>\n",
       "<table border=\"1\" class=\"dataframe\">\n",
       "  <thead>\n",
       "    <tr style=\"text-align: right;\">\n",
       "      <th></th>\n",
       "      <th>Unnamed: 0</th>\n",
       "      <th>ID</th>\n",
       "      <th>name</th>\n",
       "      <th>main_category</th>\n",
       "      <th>category</th>\n",
       "      <th>country</th>\n",
       "      <th>state</th>\n",
       "      <th>goal</th>\n",
       "      <th>pledged</th>\n",
       "      <th>currency</th>\n",
       "      <th>launched</th>\n",
       "      <th>deadline</th>\n",
       "      <th>backers</th>\n",
       "      <th>usd pledged</th>\n",
       "      <th>usd_goal_real</th>\n",
       "      <th>usd_pledged_real</th>\n",
       "    </tr>\n",
       "  </thead>\n",
       "  <tbody>\n",
       "    <tr>\n",
       "      <th>0</th>\n",
       "      <td>0</td>\n",
       "      <td>1000002330</td>\n",
       "      <td>The Songs of Adelaide &amp; Abullah</td>\n",
       "      <td>Publishing</td>\n",
       "      <td>Poetry</td>\n",
       "      <td>GB</td>\n",
       "      <td>failed</td>\n",
       "      <td>1000.0</td>\n",
       "      <td>0.0</td>\n",
       "      <td>GBP</td>\n",
       "      <td>2015-08-11 12:12:00</td>\n",
       "      <td>2015-10-09 11:36:00</td>\n",
       "      <td>0</td>\n",
       "      <td>0.0</td>\n",
       "      <td>NaN</td>\n",
       "      <td>NaN</td>\n",
       "    </tr>\n",
       "    <tr>\n",
       "      <th>1</th>\n",
       "      <td>1</td>\n",
       "      <td>1000004038</td>\n",
       "      <td>Where is Hank?</td>\n",
       "      <td>Film &amp; Video</td>\n",
       "      <td>Narrative Film</td>\n",
       "      <td>US</td>\n",
       "      <td>failed</td>\n",
       "      <td>45000.0</td>\n",
       "      <td>220.0</td>\n",
       "      <td>USD</td>\n",
       "      <td>2013-01-12 00:20:00</td>\n",
       "      <td>2013-02-26 00:20:00</td>\n",
       "      <td>3</td>\n",
       "      <td>220.0</td>\n",
       "      <td>NaN</td>\n",
       "      <td>NaN</td>\n",
       "    </tr>\n",
       "    <tr>\n",
       "      <th>2</th>\n",
       "      <td>2</td>\n",
       "      <td>1000007540</td>\n",
       "      <td>ToshiCapital Rekordz Needs Help to Complete Album</td>\n",
       "      <td>Music</td>\n",
       "      <td>Music</td>\n",
       "      <td>US</td>\n",
       "      <td>failed</td>\n",
       "      <td>5000.0</td>\n",
       "      <td>1.0</td>\n",
       "      <td>USD</td>\n",
       "      <td>2012-03-17 03:24:00</td>\n",
       "      <td>2012-04-16 04:24:00</td>\n",
       "      <td>1</td>\n",
       "      <td>1.0</td>\n",
       "      <td>NaN</td>\n",
       "      <td>NaN</td>\n",
       "    </tr>\n",
       "    <tr>\n",
       "      <th>3</th>\n",
       "      <td>3</td>\n",
       "      <td>1000011046</td>\n",
       "      <td>Community Film Project: The Art of Neighborhoo...</td>\n",
       "      <td>Film &amp; Video</td>\n",
       "      <td>Film &amp; Video</td>\n",
       "      <td>US</td>\n",
       "      <td>canceled</td>\n",
       "      <td>19500.0</td>\n",
       "      <td>1283.0</td>\n",
       "      <td>USD</td>\n",
       "      <td>2015-07-04 08:35:00</td>\n",
       "      <td>2015-08-29 01:00:00</td>\n",
       "      <td>14</td>\n",
       "      <td>1283.0</td>\n",
       "      <td>NaN</td>\n",
       "      <td>NaN</td>\n",
       "    </tr>\n",
       "    <tr>\n",
       "      <th>4</th>\n",
       "      <td>4</td>\n",
       "      <td>1000014025</td>\n",
       "      <td>Monarch Espresso Bar</td>\n",
       "      <td>Food</td>\n",
       "      <td>Restaurants</td>\n",
       "      <td>US</td>\n",
       "      <td>successful</td>\n",
       "      <td>50000.0</td>\n",
       "      <td>52375.0</td>\n",
       "      <td>USD</td>\n",
       "      <td>2016-02-26 13:38:00</td>\n",
       "      <td>2016-04-01 13:38:00</td>\n",
       "      <td>224</td>\n",
       "      <td>52375.0</td>\n",
       "      <td>NaN</td>\n",
       "      <td>NaN</td>\n",
       "    </tr>\n",
       "  </tbody>\n",
       "</table>\n",
       "</div>"
      ],
      "text/plain": [
       "   Unnamed: 0          ID                                               name  \\\n",
       "0           0  1000002330                    The Songs of Adelaide & Abullah   \n",
       "1           1  1000004038                                     Where is Hank?   \n",
       "2           2  1000007540  ToshiCapital Rekordz Needs Help to Complete Album   \n",
       "3           3  1000011046  Community Film Project: The Art of Neighborhoo...   \n",
       "4           4  1000014025                               Monarch Espresso Bar   \n",
       "\n",
       "  main_category        category country       state     goal  pledged  \\\n",
       "0    Publishing          Poetry      GB      failed   1000.0      0.0   \n",
       "1  Film & Video  Narrative Film      US      failed  45000.0    220.0   \n",
       "2         Music           Music      US      failed   5000.0      1.0   \n",
       "3  Film & Video    Film & Video      US    canceled  19500.0   1283.0   \n",
       "4          Food     Restaurants      US  successful  50000.0  52375.0   \n",
       "\n",
       "  currency             launched             deadline  backers  usd pledged  \\\n",
       "0      GBP  2015-08-11 12:12:00  2015-10-09 11:36:00        0          0.0   \n",
       "1      USD  2013-01-12 00:20:00  2013-02-26 00:20:00        3        220.0   \n",
       "2      USD  2012-03-17 03:24:00  2012-04-16 04:24:00        1          1.0   \n",
       "3      USD  2015-07-04 08:35:00  2015-08-29 01:00:00       14       1283.0   \n",
       "4      USD  2016-02-26 13:38:00  2016-04-01 13:38:00      224      52375.0   \n",
       "\n",
       "   usd_goal_real  usd_pledged_real  \n",
       "0            NaN               NaN  \n",
       "1            NaN               NaN  \n",
       "2            NaN               NaN  \n",
       "3            NaN               NaN  \n",
       "4            NaN               NaN  "
      ]
     },
     "execution_count": 8,
     "metadata": {},
     "output_type": "execute_result"
    }
   ],
   "source": [
    "df.head()"
   ]
  },
  {
   "cell_type": "code",
   "execution_count": 5,
   "metadata": {},
   "outputs": [
    {
     "data": {
      "text/plain": [
       "Index(['Unnamed: 0', 'ID', 'name', 'main_category', 'category', 'country',\n",
       "       'state', 'goal', 'pledged', 'currency', 'launched', 'deadline',\n",
       "       'backers', 'usd pledged', 'usd_goal_real', 'usd_pledged_real'],\n",
       "      dtype='object')"
      ]
     },
     "execution_count": 5,
     "metadata": {},
     "output_type": "execute_result"
    }
   ],
   "source": [
    "#Find out what columns the data set has\n",
    "df.columns"
   ]
  },
  {
   "cell_type": "code",
   "execution_count": 6,
   "metadata": {},
   "outputs": [
    {
     "data": {
      "text/plain": [
       "0    Film & Video\n",
       "dtype: object"
      ]
     },
     "execution_count": 6,
     "metadata": {},
     "output_type": "execute_result"
    }
   ],
   "source": [
    "#look at which categories are most frequent\n",
    "df['main_category'].mode()"
   ]
  },
  {
   "cell_type": "code",
   "execution_count": 7,
   "metadata": {},
   "outputs": [
    {
     "data": {
      "text/plain": [
       "0    Product Design\n",
       "dtype: object"
      ]
     },
     "execution_count": 7,
     "metadata": {},
     "output_type": "execute_result"
    }
   ],
   "source": [
    "df['category'].mode()"
   ]
  },
  {
   "cell_type": "code",
   "execution_count": 24,
   "metadata": {},
   "outputs": [
    {
     "data": {
      "text/plain": [
       "main_category   category         \n",
       "Graphic Novels   Religion               25.000000\n",
       "Crafts          Crochet                317.257415\n",
       "                Candles                568.980217\n",
       "Photography     Places                 813.854630\n",
       "Crafts          Printing               893.309905\n",
       "Music           Hip-Hop               1150.490350\n",
       "Crafts          DIY                   1163.979437\n",
       "Publishing      Poetry                1258.871557\n",
       "Food            Bacon                 1307.441127\n",
       "Publishing      Young Adult           1338.152190\n",
       "Crafts          Glass                 1406.594205\n",
       "Journalism      Video                 1442.760952\n",
       "Food            Events                1451.652849\n",
       "Publishing      Fiction               1483.527741\n",
       "Film & Video    Experimental          1545.650880\n",
       "Photography     Nature                1599.260704\n",
       "Art             Conceptual Art        1636.587644\n",
       "Music           Punk                  1648.897370\n",
       "Food            Community Gardens     1668.545306\n",
       "Journalism      Photo                 1740.884590\n",
       "Crafts          Woodworking           1767.384723\n",
       "Technology      Apps                  1796.634899\n",
       "Music           R&B                   1829.244186\n",
       "Crafts          Crafts                1904.480931\n",
       "Art             Painting              1943.858159\n",
       "Photography     People                1953.824505\n",
       "Crafts          Quilts                2042.877483\n",
       "Food            Food Trucks           2072.545238\n",
       "Fashion         Couture               2078.548323\n",
       "Games           Mobile Games          2087.190681\n",
       "                                         ...     \n",
       "Film & Video    Animation             9839.210967\n",
       "                Fantasy              10019.245744\n",
       "                Narrative Film       10472.995903\n",
       "Design          Civic Design         10842.535169\n",
       "Theater         Spaces               11190.233750\n",
       "Film & Video    Movie Theaters       11931.478192\n",
       "Comics          Webcomics            13670.543342\n",
       "                Anthologies          15168.897980\n",
       "Design          Design               17308.712338\n",
       "Music           Chiptune             17528.961471\n",
       "Fashion         Footwear             18306.112215\n",
       "Games           Video Games          18596.303308\n",
       "Technology      Technology           21419.922819\n",
       "Design          Typography           23524.355561\n",
       "Publishing      Letterpress          24406.000000\n",
       "Technology      DIY Electronics      26062.425215\n",
       "                Space Exploration    27096.708718\n",
       "                Flight               27299.453443\n",
       "Design          Product Design       30523.691409\n",
       "Music           Comedy               31176.477895\n",
       "Technology      Gadgets              32413.704790\n",
       "Games           Tabletop Games       32828.041371\n",
       "Technology      Robots               33371.841022\n",
       "Games           Gaming Hardware      43552.618340\n",
       "Technology      Hardware             44541.772648\n",
       "                Fabrication Tools    44828.233416\n",
       "                Wearables            56654.156428\n",
       "                Sound                65991.003858\n",
       "                3D Printing          67806.386073\n",
       "                Camera Equipment     79115.553278\n",
       "Name: pledged, Length: 171, dtype: float64"
      ]
     },
     "execution_count": 24,
     "metadata": {},
     "output_type": "execute_result"
    }
   ],
   "source": [
    "#lookk at the average total amount pledged based on categories (both main and sub-categories)\n",
    "df.groupby(['main_category','category'])['pledged'].mean().sort_values()\n",
    "\n"
   ]
  },
  {
   "cell_type": "code",
   "execution_count": null,
   "metadata": {
    "collapsed": true
   },
   "outputs": [],
   "source": [
    "#want to look at difference between pledged and goal amount, add as column\n",
    "df[]"
   ]
  }
 ],
 "metadata": {
  "kernelspec": {
   "display_name": "Python 3",
   "language": "python",
   "name": "python3"
  },
  "language_info": {
   "codemirror_mode": {
    "name": "ipython",
    "version": 3
   },
   "file_extension": ".py",
   "mimetype": "text/x-python",
   "name": "python",
   "nbconvert_exporter": "python",
   "pygments_lexer": "ipython3",
   "version": "3.6.3"
  }
 },
 "nbformat": 4,
 "nbformat_minor": 2
}
